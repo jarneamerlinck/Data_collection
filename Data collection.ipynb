{
 "cells": [
  {
   "cell_type": "code",
   "execution_count": null,
   "metadata": {
    "collapsed": true
   },
   "outputs": [],
   "source": [
    "#Deze lijnen importeren alle nodige bibiloteken op het programma te kunnen laden\n",
    "import serial# nodig voor de seriele communicatie van de arduino naar de computer te kunnen lezen\n",
    "import matplotlib.pyplot as plt\n",
    "#import matplotlib.animation as animation\n",
    "import numpy as np#nodig voor het uithalen van x en y waarden voor de grafiek uit de .txt bestanden\n",
    "import time #nodig voor aanmaken naam bestanden en voor de delay\n",
    "import pandas as pd\n",
    "from openpyxl import load_workbook"
   ]
  },
  {
   "cell_type": "code",
   "execution_count": null,
   "metadata": {},
   "outputs": [],
   "source": [
    "#aanmaken van .txt bestanden met de geprinte namen en alle nodige namen met datums (zoals voor de titels van de grafieken)\n",
    "temperatuur =time.strftime(\"%Y_%m_%d_%H_%M_T.txt\")\n",
    "vochtigheid =time.strftime(\"%Y_%m_%d_%H_%M_V.txt\")\n",
    "licht=time.strftime(\"%Y_%m_%d_%H_%M_L.txt\")\n",
    "\n",
    "zuurstof=time.strftime(\"%Y_%m_%d_%H_%M_Z.txt\")\n",
    "Temperatuur =time.strftime(\"Temperatuur(%Y_%m_%d_%H_%M)\")\n",
    "Vochtigheid =time.strftime(\"Vochtigheid\")\n",
    "Licht=time.strftime(\"Licht(%Y_%m_%d_%H_%M)\")\n",
    "Zuurstof=time.strftime(\"Zuurstof\")\n",
    "DISPLAY=time.strftime(\"Begonnen om %H_%M\")\n",
    "sheet_Name=time.strftime(\"%Y_%m_%d_%H_%M\")\n",
    "\n",
    "Grafieken_1=time.strftime(\"Grafieken_T_V_%Y_%m_%d_%H_%M.png\")\n",
    "Grafieken_2=time.strftime(\"Grafieken_L_Z_%Y_%m_%d_%H_%M.png\")\n",
    "titel_1=time.strftime(\"Temperatuur(%Y_%m_%d_%H_%M)\\nRelatieve vochtigheid\")\n",
    "titel_2=time.strftime(\"Licht(%Y_%m_%d_%H_%M)\\nZuurstof\")\n",
    "info=time.strftime(\"%Y_%m_%d_%H_%M_Info.txt\")  \n",
    "print(temperatuur)\n",
    "print(vochtigheid)\n",
    "print(licht)\n",
    "print(zuurstof)\n",
    "print(info)\n",
    "\n",
    "file_T= open(str(temperatuur),'w')\n",
    "file_V= open(str(vochtigheid),'w')\n",
    "file_L= open(str(licht),'w')\n",
    "file_Z= open(str(zuurstof),'w')\n",
    "file_Info=open(str(info),'w')\n",
    "\n",
    "INfo=input('Extra info=')  \n",
    "file_Info= open(str(info),'a')  \n",
    "file_Info.write(INfo)  \n",
    "file_Info.close()  \n"
   ]
  },
  {
   "cell_type": "code",
   "execution_count": null,
   "metadata": {
    "collapsed": true
   },
   "outputs": [],
   "source": [
    "#deze regel zorgt er voor dat de binnenkomende data van de serieele poort 4 gelijk wordt gesteld aan de varriable list\n",
    "list = serial.Serial('COM7', 9600)\n"
   ]
  },
  {
   "cell_type": "code",
   "execution_count": null,
   "metadata": {},
   "outputs": [],
   "source": [
    "#deze regels zijn nodig om de sensor de tijd te geven op op te starten\n",
    "list.readline()\n",
    "list.readline()\n",
    "list.readline()"
   ]
  },
  {
   "cell_type": "code",
   "execution_count": null,
   "metadata": {},
   "outputs": [],
   "source": [
    "#geeft de lijst weer => met deze data kunnen we niet werken\n",
    "list"
   ]
  },
  {
   "cell_type": "code",
   "execution_count": null,
   "metadata": {},
   "outputs": [],
   "source": [
    "def grafiek():\n",
    "    #Standaard\n",
    "    #Grafiek maken van de Temperatuur waarden uit een txt file\n",
    "    x, y =np.loadtxt(str(temperatuur), delimiter=',', unpack= True)\n",
    "    fig_1 = plt.figure()\n",
    "    ax1 = fig_1.add_subplot(2,1,1)\n",
    "    ax1.clear()\n",
    "    ax1.axes.set_ylabel('Temperatuur in °C')\n",
    "    #ax1.axes.set_xlabel('Tijd in seconden')\n",
    "    ax1.set_title(titel_1)\n",
    "    ax1.plot(x, y, color ='tab:red')\n",
    "    ax1.set_xticklabels([])\n",
    "\n",
    "    #Grafiek maken van de Vochtigheid waarden uit een txt file\n",
    "    X, Y =np.loadtxt(str(vochtigheid), delimiter=',', unpack= True)\n",
    "    ax2 = fig_1.add_subplot(2,1,2)\n",
    "    #fig.subplots_adjust(hspace =1, bottom=0.001)\n",
    "    #fig.subplots_adjust(hspace =1)\n",
    "    ax2.clear()\n",
    "    ax2.axes.set_ylabel('Relatieve vochtigheid in %')\n",
    "    #ax2.axes.set_xlabel('Tijd in seconden')\n",
    "    ax2.plot(X, Y, color='tab:blue')\n",
    "\n",
    "    #Deze lijn voegt de grafieken samen op 1 afbeelding\n",
    "    fig_1.savefig(Grafieken_1,transparent=0, bbox_inches='tight')\n",
    "\n",
    "\n",
    "    #Grafiek maken van de licht waarden uit een txt file\n",
    "    X1, Y1 =np.loadtxt(str(licht), delimiter=',', unpack= True)\n",
    "    fig_2 = plt.figure()\n",
    "    ax3 = fig_2.add_subplot(2,1,1)\n",
    "    ax3.clear()\n",
    "    ax3.axes.set_ylabel('Licht in lux')\n",
    "    ax3.axes.set_xlabel('Tijd in seconden')\n",
    "    ax3.set_title(titel_2)\n",
    "    ax3.plot(X1, Y1,color='tab:red')\n",
    "    ax2.set_xticklabels([])\n",
    "\n",
    "\n",
    "\n",
    "    #Grafiek maken van de zuurstof waarden uit een txt file\n",
    "    X2, Y2 =np.loadtxt(str(zuurstof), delimiter=',', unpack= True)\n",
    "    ax4 = fig_2.add_subplot(2,1,2)\n",
    "    ax4.clear()\n",
    "    ax4.axes.set_ylabel('Zuurstof in ppm')\n",
    "    ax4.axes.set_xlabel('Tijd in seconden')\n",
    "    ax4.plot(X2, Y2,color='tab:blue')\n",
    "\n",
    "    #Deze lijn voegt de grafieken samen op 1 afbeelding\n",
    "    fig_2.savefig(Grafieken_2,transparent=0, bbox_inches='tight')\n",
    "    print(\"Grafiek Done\")\n",
    "print(\"def aangemaakt\")"
   ]
  },
  {
   "cell_type": "code",
   "execution_count": null,
   "metadata": {},
   "outputs": [],
   "source": [
    "def excel():\n",
    "    x, y =np.loadtxt(str(temperatuur), delimiter=',', unpack= True)\n",
    "    x, y1 =np.loadtxt(str(vochtigheid), delimiter=',', unpack= True)\n",
    "    x, y2 =np.loadtxt(str(licht), delimiter=',', unpack= True)\n",
    "    x, y3 =np.loadtxt(str(zuurstof), delimiter=',', unpack= True)\n",
    "    df=pd.DataFrame({\"Temperatuur\":y,\"Vochtigheid\":y1,\"Licht\":y2,\"Zuurstof\":y3},x)\n",
    "    book = load_workbook('Data_GIP_6IW.xlsx')\n",
    "    writer = pd.ExcelWriter('Data_GIP_6IW.xlsx', engine = 'openpyxl')\n",
    "    writer.book = book\n",
    "    df.to_excel(writer, sheet_name = str(sheet_Name))\n",
    "\n",
    "    writer.save()\n",
    "    writer.close()\n",
    "    print(\"Excel done\")\n",
    "print(\"def aangemaakt\")"
   ]
  },
  {
   "cell_type": "code",
   "execution_count": null,
   "metadata": {},
   "outputs": [],
   "source": [
    "#Deze cel schrijft de ingelezen waarden in 4 .txt files\n",
    "a=0\n",
    "loop=0\n",
    "Q=input('Om de hoeveel seconden moeten er waardes genomen worden (min 2s)')\n",
    "q=int(Q)\n",
    "Backup=input('Om de hoeveel binnengekomen waardes moet er een back up gemaakt worden?')\n",
    "backup=int(Backup)\n",
    "X=input('Hoelang mag het programma draaien (h m s)')\n",
    "print(time.strftime(\"Begonnen om %H:%M\"))\n",
    "P=X.split()\n",
    "XX= 3600*int(P[0])+60*int(P[1])+int(P[2])\n",
    "x=int(XX)\n",
    "while x>0 :    \n",
    "    x=x-q\n",
    "    a=a+1\n",
    "    tst=0\n",
    "    s=0\n",
    "    v=0\n",
    "    t=0\n",
    "    l=0\n",
    "    z=0\n",
    "    tst=list.readline()\n",
    "    TST=tst.split()\n",
    "    T=int(TST[0])\n",
    "    V=int(TST[1])\n",
    "    L=int(TST[2])\n",
    "    Z=int(TST[3])\n",
    "\n",
    "    #print(tst)\n",
    "    S=q*a\n",
    "    s=str(S)\n",
    "    v=str(V)\n",
    "    t=str(T)\n",
    "    l=str(L)\n",
    "    z=str(Z)\n",
    "    file_V= open(str(vochtigheid),'a')\n",
    "    file_V.write(s)\n",
    "    file_V.write(',')\n",
    "    file_V.write(v)\n",
    "    file_V.write('\\n')\n",
    "    file_V.close()\n",
    "    file_T= open(str(temperatuur),'a')\n",
    "    file_T.write(s)\n",
    "    file_T.write(',')\n",
    "    file_T.write(t)\n",
    "    file_T.write('\\n')\n",
    "    file_T.close()\n",
    "    file_L= open(str(licht),'a')\n",
    "    file_L.write(s)\n",
    "    file_L.write(',')\n",
    "    file_L.write(l)\n",
    "    file_L.write('\\n')\n",
    "    file_L.close() \n",
    "    file_Z= open(str(zuurstof),'a')\n",
    "    file_Z.write(s)\n",
    "    file_Z.write(',')\n",
    "    file_Z.write(z)\n",
    "    file_Z.write('\\n')\n",
    "    file_Z.close()\n",
    "    time.sleep(q)\n",
    "    loop=loop+1\n",
    "    if (loop==backup):\n",
    "        grafiek()\n",
    "        loop=0\n",
    "        print (\"Grafieken gemaakt\")\n",
    "print('Done')\n"
   ]
  },
  {
   "cell_type": "code",
   "execution_count": null,
   "metadata": {
    "collapsed": true,
    "scrolled": true
   },
   "outputs": [],
   "source": [
    "#als er een error oploopt en het programma niet verder werkt. Herlaad deze cel voor eind resultaten\n",
    "grafiek()\n",
    "excel()"
   ]
  },
  {
   "cell_type": "code",
   "execution_count": null,
   "metadata": {
    "collapsed": true
   },
   "outputs": [],
   "source": []
  },
  {
   "cell_type": "code",
   "execution_count": null,
   "metadata": {
    "collapsed": true
   },
   "outputs": [],
   "source": []
  }
 ],
 "metadata": {
  "kernelspec": {
   "display_name": "Python 3",
   "language": "python",
   "name": "python3"
  },
  "language_info": {
   "codemirror_mode": {
    "name": "ipython",
    "version": 3
   },
   "file_extension": ".py",
   "mimetype": "text/x-python",
   "name": "python",
   "nbconvert_exporter": "python",
   "pygments_lexer": "ipython3",
   "version": "3.6.2"
  }
 },
 "nbformat": 4,
 "nbformat_minor": 2
}
